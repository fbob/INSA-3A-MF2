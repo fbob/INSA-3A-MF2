{
 "cells": [
  {
   "cell_type": "markdown",
   "metadata": {},
   "source": [
    "# Ecoulement de Couette-Poiseuille\n",
    "\n",
    "![Configuration de Couette-Plan](Images/plaque_plane.png \"Title\")\n",
    "\n",
    "On a montré en TD que la solution générale est donnée par:\n",
    "\n",
    "$$u\\left(y\\right)=\\frac{1}{2\\mu}\\frac{dp}{dx}y\\left(y-d\\right)+\\frac{U_{0}}{d}y$$\n",
    "\n",
    "• On se place ici dans le cas plus général où $\\frac{dp}{dx}$ et $u_{0}$ sont $\\neq0$.\n",
    "\n",
    "• Le fluide considéré est de l'air à 20°C dont la viscosité est $\\mu=1,8.10^{-5}\\mbox{ Pa.s}$ \n",
    "\n",
    "• La distance entre les deux plaques est $d=1cm$."
   ]
  },
  {
   "cell_type": "code",
   "execution_count": 1,
   "metadata": {},
   "outputs": [
    {
     "data": {
      "application/vnd.jupyter.widget-view+json": {
       "model_id": "605447ee25e745a0b387bae780b68c6e",
       "version_major": 2,
       "version_minor": 0
      },
      "text/plain": [
       "interactive(children=(FloatSlider(value=0.0, description='dpdx', max=0.5, min=-0.5, step=0.05), FloatSlider(va…"
      ]
     },
     "metadata": {},
     "output_type": "display_data"
    }
   ],
   "source": [
    "import numpy as np\n",
    "import matplotlib.pyplot as plt\n",
    "from ipywidgets import interact, interactive, fixed, interact_manual\n",
    "\n",
    "d = 0.01 # Distance between the bottom and top wall in meter\n",
    "mu = 1.8e-05 # Dynamic viscosity in Pa.s\n",
    "\n",
    "\n",
    "x = np.zeros(20)\n",
    "y = np.linspace(0, d,20)\n",
    "\n",
    "def plot_interactive(dpdx,U0):\n",
    "    u = 0.5*dpdx*y*(y-d)/mu + U0*(y/d) # u component of the velocity vector\n",
    "    v = np.zeros(20) # # v component of the velocity vector (zero here as the flow is unidirectional)\n",
    "    # Figure\n",
    "    plt.figure()\n",
    "    plt.plot(u,y,'-o') # Curve profile\n",
    "    plt.quiver(x,y,u,v,scale_units='xy', scale=1, color='C0') # Vector  field\n",
    "    plt.xlabel(r\"$u(y)$\")\n",
    "    plt.ylabel(r\"$y$\")\n",
    "    plt.xlim(-0.2,1.6)\n",
    "    plt.grid()\n",
    "    plt.text(0.4, .001, r'$\\frac{dp}{dx}=-0.5,\\ u_0=0.5$')\n",
    "    plt.show()\n",
    "\n",
    "# Interactive slider widgets  \n",
    "interact(plot_interactive, dpdx=(-0.5,0.5,0.05), U0=(0.5,1.5,0.1));"
   ]
  },
  {
   "cell_type": "markdown",
   "metadata": {},
   "source": [
    "# Ecoulement entre deux tapis roulant\n",
    "\n",
    "![Configuration de Couette-Plan](Images/tapisRoulants.png \"Title\")\n",
    "\n",
    "On a montré en TD que la solution générale est donnée par:\n",
    "\n",
    "$$u\\left(y\\right)=\\frac{1}{2\\mu}\\frac{dp}{dx}y\\left(y-H\\right)+U_{0}$$\n",
    "\n",
    "On se place ici dans le cas où:\n",
    "* $U_{0}=0,20m.s^{-1}$.\n",
    "* Le fluide considéré est une pâte d'amidon dont la viscosité dynamique est $\\mu=6,0.10^{-2}\\mbox{ Pa.s}$ \n",
    "* La distance entre les deux tapis est $H=50mm$."
   ]
  },
  {
   "cell_type": "code",
   "execution_count": 2,
   "metadata": {},
   "outputs": [
    {
     "data": {
      "application/vnd.jupyter.widget-view+json": {
       "model_id": "57190150d2ab451f99cb1b58ca79ce07",
       "version_major": 2,
       "version_minor": 0
      },
      "text/plain": [
       "interactive(children=(IntSlider(value=0, description='dpdx', max=70, min=-70, step=5), FloatSlider(value=0.2, …"
      ]
     },
     "metadata": {},
     "output_type": "display_data"
    }
   ],
   "source": [
    "import numpy as np\n",
    "import matplotlib.pyplot as plt\n",
    "from ipywidgets import interact, interactive, fixed, interact_manual\n",
    "\n",
    "H = 0.05 # Distance between the bottom and top wall in meter\n",
    "mu = .06 # Dynamic viscosity in Pa.s\n",
    "\n",
    "\n",
    "x = np.zeros(11)\n",
    "y = np.linspace(0, H,11)\n",
    "\n",
    "def plot_interactive(dpdx,U0):\n",
    "    u = 0.5*dpdx*y*(y-H)/mu + U0 # u component of the velocity vector\n",
    "    v = np.zeros(11) # # v component of the velocity vector (zero here as the flow is unidirectional)\n",
    "    # Figure\n",
    "    plt.figure()\n",
    "    plt.plot(u,y,'-o') # Curve profile    \n",
    "    plt.quiver(x,y,u,v,scale_units='xy', scale=1, color='C0') # Vector  field\n",
    "\n",
    "    if min(u)<0:\n",
    "        uextremum = -dpdx*H**2/(8*mu)+U0\n",
    "        plt.plot(uextremum,H/2,'or')\n",
    "        plt.quiver(0,H/2,uextremum,0,scale_units='xy', scale=1, color='r')\n",
    "        \n",
    "    plt.xlabel(r\"$u(y)$\")\n",
    "    plt.ylabel(r\"$y$\")\n",
    "    plt.xlim(-0.4,0.8)\n",
    "    plt.grid()\n",
    "    plt.show()\n",
    "\n",
    "# Interactive slider widgets  \n",
    "interact(plot_interactive, dpdx=(-70,70,5), U0=(0.1,0.4,0.05));"
   ]
  },
  {
   "cell_type": "code",
   "execution_count": null,
   "metadata": {},
   "outputs": [],
   "source": []
  }
 ],
 "metadata": {
  "kernelspec": {
   "display_name": "Python 3",
   "language": "python",
   "name": "python3"
  },
  "language_info": {
   "codemirror_mode": {
    "name": "ipython",
    "version": 3
   },
   "file_extension": ".py",
   "mimetype": "text/x-python",
   "name": "python",
   "nbconvert_exporter": "python",
   "pygments_lexer": "ipython3",
   "version": "3.8.5"
  },
  "widgets": {
   "application/vnd.jupyter.widget-state+json": {
    "state": {
     "1249029abbb841fbb959a790e9b87fda": {
      "model_module": "jupyter-js-widgets",
      "model_module_version": "~2.1.4",
      "model_name": "LayoutModel",
      "state": {
       "_model_module_version": "~2.1.4",
       "_view_module_version": "~2.1.4"
      }
     },
     "1a36256112a04f94a9734d4b9352c6a5": {
      "model_module": "jupyter-js-widgets",
      "model_module_version": "~2.1.4",
      "model_name": "VBoxModel",
      "state": {
       "_dom_classes": [
        "widget-interact"
       ],
       "_model_module_version": "~2.1.4",
       "_view_module_version": "~2.1.4",
       "children": [
        "IPY_MODEL_e63b1d48220e403691e39cec8859bb9d",
        "IPY_MODEL_72d9e211d4a04ef3a040d78c8064bd29",
        "IPY_MODEL_8ca7dc5909b844edbf8570b95334d75c"
       ],
       "layout": "IPY_MODEL_417a17bd26f64f9c883f87f93a366f59"
      }
     },
     "270c5c15c2844400bc1bc11f03595152": {
      "model_module": "jupyter-js-widgets",
      "model_module_version": "~2.1.4",
      "model_name": "LayoutModel",
      "state": {
       "_model_module_version": "~2.1.4",
       "_view_module_version": "~2.1.4"
      }
     },
     "417a17bd26f64f9c883f87f93a366f59": {
      "model_module": "jupyter-js-widgets",
      "model_module_version": "~2.1.4",
      "model_name": "LayoutModel",
      "state": {
       "_model_module_version": "~2.1.4",
       "_view_module_version": "~2.1.4"
      }
     },
     "429e97819d524cd2b424eb14fa68592a": {
      "model_module": "jupyter-js-widgets",
      "model_module_version": "~2.1.4",
      "model_name": "LayoutModel",
      "state": {
       "_model_module_version": "~2.1.4",
       "_view_module_version": "~2.1.4"
      }
     },
     "42df6b54286f4080b71109acc310a772": {
      "model_module": "jupyter-js-widgets",
      "model_module_version": "~2.1.4",
      "model_name": "FloatSliderModel",
      "state": {
       "_model_module_version": "~2.1.4",
       "_view_module_version": "~2.1.4",
       "description": "dpdx",
       "layout": "IPY_MODEL_9a0a0a8536844b26b2591522e1a0eb4a",
       "max": 0.5,
       "min": -0.5,
       "step": 0.1,
       "value": -0.5
      }
     },
     "486251f1a06b48b3b1a9abd03daf85da": {
      "model_module": "jupyter-js-widgets",
      "model_module_version": "~2.1.4",
      "model_name": "LayoutModel",
      "state": {
       "_model_module_version": "~2.1.4",
       "_view_module_version": "~2.1.4"
      }
     },
     "51272b5990b24b80ab497ad2c4eadb38": {
      "model_module": "jupyter-js-widgets",
      "model_module_version": "~2.1.4",
      "model_name": "VBoxModel",
      "state": {
       "_dom_classes": [
        "widget-interact"
       ],
       "_model_module_version": "~2.1.4",
       "_view_module_version": "~2.1.4",
       "children": [
        "IPY_MODEL_9a0ffc2842b64ce6abf27a601482ab6a",
        "IPY_MODEL_a991fe2994874d27b973db3df616222b",
        "IPY_MODEL_e9aba12d1da745a5be8fd0993109d0c3"
       ],
       "layout": "IPY_MODEL_270c5c15c2844400bc1bc11f03595152"
      }
     },
     "555656c3c7974763a910d5050e335d12": {
      "model_module": "jupyter-js-widgets",
      "model_module_version": "~2.1.4",
      "model_name": "LayoutModel",
      "state": {
       "_model_module_version": "~2.1.4",
       "_view_module_version": "~2.1.4"
      }
     },
     "56020d5c629d44c998a632e4b260bee6": {
      "model_module": "jupyter-js-widgets",
      "model_module_version": "~2.1.4",
      "model_name": "OutputModel",
      "state": {
       "_dom_classes": [],
       "_model_module": "jupyter-js-widgets",
       "_model_module_version": "~2.1.4",
       "_view_module": "jupyter-js-widgets",
       "_view_module_version": "~2.1.4",
       "layout": "IPY_MODEL_9a6ece9256c043a6b31605b1bdd0d268",
       "msg_throttle": 1
      }
     },
     "5b2aec9daa4947beb881092183db85ad": {
      "model_module": "jupyter-js-widgets",
      "model_module_version": "~2.1.4",
      "model_name": "LayoutModel",
      "state": {
       "_model_module_version": "~2.1.4",
       "_view_module_version": "~2.1.4"
      }
     },
     "5d1db5182412453b9b7e013231100a7a": {
      "model_module": "jupyter-js-widgets",
      "model_module_version": "~2.1.4",
      "model_name": "VBoxModel",
      "state": {
       "_dom_classes": [
        "widget-interact"
       ],
       "_model_module_version": "~2.1.4",
       "_view_module_version": "~2.1.4",
       "children": [
        "IPY_MODEL_b832200edb044bd3aa3b0c0ed2efb124",
        "IPY_MODEL_bc35a4e4347f4270942c2ab5d7609177",
        "IPY_MODEL_56020d5c629d44c998a632e4b260bee6"
       ],
       "layout": "IPY_MODEL_c50416fe0d034130acd89b3f1f5faf05"
      }
     },
     "7032ffd5a013400ca091fe722ba61779": {
      "model_module": "jupyter-js-widgets",
      "model_module_version": "~2.1.4",
      "model_name": "LayoutModel",
      "state": {
       "_model_module_version": "~2.1.4",
       "_view_module_version": "~2.1.4"
      }
     },
     "72d9e211d4a04ef3a040d78c8064bd29": {
      "model_module": "jupyter-js-widgets",
      "model_module_version": "~2.1.4",
      "model_name": "FloatSliderModel",
      "state": {
       "_model_module_version": "~2.1.4",
       "_view_module_version": "~2.1.4",
       "description": "U0",
       "layout": "IPY_MODEL_5b2aec9daa4947beb881092183db85ad",
       "max": 1.5,
       "min": 0.5,
       "step": 0.1,
       "value": 0.5
      }
     },
     "836908a38e1547ef80ff1072d3b0abb1": {
      "model_module": "jupyter-js-widgets",
      "model_module_version": "~2.1.4",
      "model_name": "LayoutModel",
      "state": {
       "_model_module_version": "~2.1.4",
       "_view_module_version": "~2.1.4"
      }
     },
     "845eca0c806841ce9a9cb95624a3469a": {
      "model_module": "jupyter-js-widgets",
      "model_module_version": "~2.1.4",
      "model_name": "LayoutModel",
      "state": {
       "_model_module_version": "~2.1.4",
       "_view_module_version": "~2.1.4"
      }
     },
     "86aabf4d6fbf41009834dbfbf3946ebd": {
      "model_module": "jupyter-js-widgets",
      "model_module_version": "~2.1.4",
      "model_name": "LayoutModel",
      "state": {
       "_model_module_version": "~2.1.4",
       "_view_module_version": "~2.1.4"
      }
     },
     "8ca7dc5909b844edbf8570b95334d75c": {
      "model_module": "jupyter-js-widgets",
      "model_module_version": "~2.1.4",
      "model_name": "OutputModel",
      "state": {
       "_dom_classes": [],
       "_model_module": "jupyter-js-widgets",
       "_model_module_version": "~2.1.4",
       "_view_module": "jupyter-js-widgets",
       "_view_module_version": "~2.1.4",
       "layout": "IPY_MODEL_e96f29b1d3e64856bd2814f58b31041d",
       "msg_throttle": 1
      }
     },
     "9237550522324aaa9ad0e71705e3a3b5": {
      "model_module": "jupyter-js-widgets",
      "model_module_version": "~2.1.4",
      "model_name": "LayoutModel",
      "state": {
       "_model_module_version": "~2.1.4",
       "_view_module_version": "~2.1.4"
      }
     },
     "950989cede1547eaa763a3951e80c3a6": {
      "model_module": "jupyter-js-widgets",
      "model_module_version": "~2.1.4",
      "model_name": "FloatSliderModel",
      "state": {
       "_model_module_version": "~2.1.4",
       "_view_module_version": "~2.1.4",
       "description": "U0",
       "layout": "IPY_MODEL_486251f1a06b48b3b1a9abd03daf85da",
       "max": 1.5,
       "min": 0.5,
       "step": 0.5,
       "value": 0.5
      }
     },
     "9a0a0a8536844b26b2591522e1a0eb4a": {
      "model_module": "jupyter-js-widgets",
      "model_module_version": "~2.1.4",
      "model_name": "LayoutModel",
      "state": {
       "_model_module_version": "~2.1.4",
       "_view_module_version": "~2.1.4"
      }
     },
     "9a0ffc2842b64ce6abf27a601482ab6a": {
      "model_module": "jupyter-js-widgets",
      "model_module_version": "~2.1.4",
      "model_name": "FloatSliderModel",
      "state": {
       "_model_module_version": "~2.1.4",
       "_view_module_version": "~2.1.4",
       "description": "dpdx",
       "layout": "IPY_MODEL_9c8d575576d44bd7878d0f9971cd46d9",
       "max": 0.5,
       "min": -0.5,
       "step": 0.05
      }
     },
     "9a25b93f71944d7aa89a4e6fc7944bd9": {
      "model_module": "jupyter-js-widgets",
      "model_module_version": "~2.1.4",
      "model_name": "FloatSliderModel",
      "state": {
       "_model_module_version": "~2.1.4",
       "_view_module_version": "~2.1.4",
       "description": "dpdx",
       "layout": "IPY_MODEL_836908a38e1547ef80ff1072d3b0abb1",
       "max": 0.5,
       "min": -0.5,
       "step": 0.1
      }
     },
     "9a6ece9256c043a6b31605b1bdd0d268": {
      "model_module": "jupyter-js-widgets",
      "model_module_version": "~2.1.4",
      "model_name": "LayoutModel",
      "state": {
       "_model_module_version": "~2.1.4",
       "_view_module_version": "~2.1.4"
      }
     },
     "9c8d575576d44bd7878d0f9971cd46d9": {
      "model_module": "jupyter-js-widgets",
      "model_module_version": "~2.1.4",
      "model_name": "LayoutModel",
      "state": {
       "_model_module_version": "~2.1.4",
       "_view_module_version": "~2.1.4"
      }
     },
     "9f7c95fbf6154a05afb577b9f4e98f00": {
      "model_module": "jupyter-js-widgets",
      "model_module_version": "~2.1.4",
      "model_name": "VBoxModel",
      "state": {
       "_dom_classes": [
        "widget-interact"
       ],
       "_model_module_version": "~2.1.4",
       "_view_module_version": "~2.1.4",
       "children": [
        "IPY_MODEL_42df6b54286f4080b71109acc310a772",
        "IPY_MODEL_950989cede1547eaa763a3951e80c3a6",
        "IPY_MODEL_d8df44d02d01456ea7e2b059905bfa41"
       ],
       "layout": "IPY_MODEL_b13a7a475298492aac8ddd74838b36f3"
      }
     },
     "a991fe2994874d27b973db3df616222b": {
      "model_module": "jupyter-js-widgets",
      "model_module_version": "~2.1.4",
      "model_name": "FloatSliderModel",
      "state": {
       "_model_module_version": "~2.1.4",
       "_view_module_version": "~2.1.4",
       "description": "U0",
       "layout": "IPY_MODEL_ff363b794f4c47c38cb15f706395440d",
       "max": 1.5,
       "min": 0.5,
       "step": 0.1,
       "value": 1.5
      }
     },
     "ad354b36ac314bb09bdd7e68ae86ca1c": {
      "model_module": "jupyter-js-widgets",
      "model_module_version": "~2.1.4",
      "model_name": "VBoxModel",
      "state": {
       "_dom_classes": [
        "widget-interact"
       ],
       "_model_module_version": "~2.1.4",
       "_view_module_version": "~2.1.4",
       "children": [
        "IPY_MODEL_9a25b93f71944d7aa89a4e6fc7944bd9",
        "IPY_MODEL_ded0b6f623a845e4a944b8b70e545cb7",
        "IPY_MODEL_d642d1b1f06e4ac4a3c8d0c2a5c278b5"
       ],
       "layout": "IPY_MODEL_7032ffd5a013400ca091fe722ba61779"
      }
     },
     "b13a7a475298492aac8ddd74838b36f3": {
      "model_module": "jupyter-js-widgets",
      "model_module_version": "~2.1.4",
      "model_name": "LayoutModel",
      "state": {
       "_model_module_version": "~2.1.4",
       "_view_module_version": "~2.1.4"
      }
     },
     "b832200edb044bd3aa3b0c0ed2efb124": {
      "model_module": "jupyter-js-widgets",
      "model_module_version": "~2.1.4",
      "model_name": "FloatSliderModel",
      "state": {
       "_model_module_version": "~2.1.4",
       "_view_module_version": "~2.1.4",
       "description": "dpdx",
       "layout": "IPY_MODEL_86aabf4d6fbf41009834dbfbf3946ebd",
       "max": 0.5,
       "min": -0.5,
       "step": 0.05
      }
     },
     "bc35a4e4347f4270942c2ab5d7609177": {
      "model_module": "jupyter-js-widgets",
      "model_module_version": "~2.1.4",
      "model_name": "FloatSliderModel",
      "state": {
       "_model_module_version": "~2.1.4",
       "_view_module_version": "~2.1.4",
       "description": "U0",
       "layout": "IPY_MODEL_555656c3c7974763a910d5050e335d12",
       "max": 1.5,
       "min": 0.5,
       "step": 0.1,
       "value": 1
      }
     },
     "c50416fe0d034130acd89b3f1f5faf05": {
      "model_module": "jupyter-js-widgets",
      "model_module_version": "~2.1.4",
      "model_name": "LayoutModel",
      "state": {
       "_model_module_version": "~2.1.4",
       "_view_module_version": "~2.1.4"
      }
     },
     "d642d1b1f06e4ac4a3c8d0c2a5c278b5": {
      "model_module": "jupyter-js-widgets",
      "model_module_version": "~2.1.4",
      "model_name": "OutputModel",
      "state": {
       "_dom_classes": [],
       "_model_module": "jupyter-js-widgets",
       "_model_module_version": "~2.1.4",
       "_view_module": "jupyter-js-widgets",
       "_view_module_version": "~2.1.4",
       "layout": "IPY_MODEL_429e97819d524cd2b424eb14fa68592a",
       "msg_throttle": 1
      }
     },
     "d8df44d02d01456ea7e2b059905bfa41": {
      "model_module": "jupyter-js-widgets",
      "model_module_version": "~2.1.4",
      "model_name": "OutputModel",
      "state": {
       "_dom_classes": [],
       "_model_module": "jupyter-js-widgets",
       "_model_module_version": "~2.1.4",
       "_view_module": "jupyter-js-widgets",
       "_view_module_version": "~2.1.4",
       "layout": "IPY_MODEL_f6dab3e4f32d429aad926ccdc7337dc9",
       "msg_throttle": 1
      }
     },
     "ded0b6f623a845e4a944b8b70e545cb7": {
      "model_module": "jupyter-js-widgets",
      "model_module_version": "~2.1.4",
      "model_name": "FloatSliderModel",
      "state": {
       "_model_module_version": "~2.1.4",
       "_view_module_version": "~2.1.4",
       "description": "U0",
       "layout": "IPY_MODEL_845eca0c806841ce9a9cb95624a3469a",
       "max": 1.5,
       "min": 0.5,
       "step": 0.5,
       "value": 1
      }
     },
     "e63b1d48220e403691e39cec8859bb9d": {
      "model_module": "jupyter-js-widgets",
      "model_module_version": "~2.1.4",
      "model_name": "FloatSliderModel",
      "state": {
       "_model_module_version": "~2.1.4",
       "_view_module_version": "~2.1.4",
       "description": "dpdx",
       "layout": "IPY_MODEL_1249029abbb841fbb959a790e9b87fda",
       "max": 0.5,
       "min": -0.5,
       "step": 0.05,
       "value": 0.5
      }
     },
     "e96f29b1d3e64856bd2814f58b31041d": {
      "model_module": "jupyter-js-widgets",
      "model_module_version": "~2.1.4",
      "model_name": "LayoutModel",
      "state": {
       "_model_module_version": "~2.1.4",
       "_view_module_version": "~2.1.4"
      }
     },
     "e9aba12d1da745a5be8fd0993109d0c3": {
      "model_module": "jupyter-js-widgets",
      "model_module_version": "~2.1.4",
      "model_name": "OutputModel",
      "state": {
       "_dom_classes": [],
       "_model_module": "jupyter-js-widgets",
       "_model_module_version": "~2.1.4",
       "_view_module": "jupyter-js-widgets",
       "_view_module_version": "~2.1.4",
       "layout": "IPY_MODEL_9237550522324aaa9ad0e71705e3a3b5",
       "msg_throttle": 1
      }
     },
     "f6dab3e4f32d429aad926ccdc7337dc9": {
      "model_module": "jupyter-js-widgets",
      "model_module_version": "~2.1.4",
      "model_name": "LayoutModel",
      "state": {
       "_model_module_version": "~2.1.4",
       "_view_module_version": "~2.1.4"
      }
     },
     "ff363b794f4c47c38cb15f706395440d": {
      "model_module": "jupyter-js-widgets",
      "model_module_version": "~2.1.4",
      "model_name": "LayoutModel",
      "state": {
       "_model_module_version": "~2.1.4",
       "_view_module_version": "~2.1.4"
      }
     }
    },
    "version_major": 1,
    "version_minor": 0
   }
  }
 },
 "nbformat": 4,
 "nbformat_minor": 4
}
